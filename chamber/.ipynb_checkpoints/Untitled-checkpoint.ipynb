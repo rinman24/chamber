{
 "cells": [
  {
   "cell_type": "code",
   "execution_count": 1,
   "metadata": {
    "collapsed": true
   },
   "outputs": [],
   "source": [
    "import sqldb"
   ]
  },
  {
   "cell_type": "code",
   "execution_count": 2,
   "metadata": {
    "scrolled": true
   },
   "outputs": [
    {
     "data": {
      "text/plain": [
       "mysql.connector.cursor.MySQLCursor"
      ]
     },
     "execution_count": 2,
     "metadata": {},
     "output_type": "execute_result"
    }
   ],
   "source": [
    "cnx = sqldb.connect_sqldb('test')\n",
    "cur = cnx.cursor()\n",
    "type(cur)"
   ]
  },
  {
   "cell_type": "code",
   "execution_count": null,
   "metadata": {
    "scrolled": true
   },
   "outputs": [],
   "source": [
    "cur.execute(\"SHOW TABLES;\")\n",
    "cur.fetchall()"
   ]
  },
  {
   "cell_type": "code",
   "execution_count": null,
   "metadata": {
    "collapsed": true
   },
   "outputs": [],
   "source": [
    "cur.execute(\"DROP TABLE Results;\")"
   ]
  },
  {
   "cell_type": "code",
   "execution_count": null,
   "metadata": {
    "collapsed": true
   },
   "outputs": [],
   "source": [
    "cur.execute(\"DROP TABLE TempObservation;\")\n",
    "cur.execute(\"DROP TABLE Observation;\")\n",
    "cur.execute(\"DROP TABLE Results;\")\n",
    "cur.execute(\"DROP TABLE Test;\")\n",
    "cur.execute(\"DROP TABLE Setting;\")"
   ]
  },
  {
   "cell_type": "code",
   "execution_count": 3,
   "metadata": {
    "scrolled": false
   },
   "outputs": [
    {
     "data": {
      "text/plain": [
       "[(Decimal('299.683000'),),\n",
       " (Decimal('299.688000'),),\n",
       " (Decimal('299.692000'),),\n",
       " (Decimal('299.692000'),),\n",
       " (Decimal('299.696000'),),\n",
       " (Decimal('299.700000'),),\n",
       " (Decimal('299.700000'),),\n",
       " (Decimal('299.696000'),),\n",
       " (Decimal('299.705000'),),\n",
       " (Decimal('299.705000'),),\n",
       " (Decimal('299.701000'),)]"
      ]
     },
     "execution_count": 3,
     "metadata": {},
     "output_type": "execute_result"
    }
   ],
   "source": [
    "cur.execute((\"SELECT AVG(Temperature) FROM TempObservation AS Temp INNER JOIN Observation \"\n",
    "                \"AS Obs ON Temp.ObservationID=Obs.ObservationID INNER JOIN Test ON \"\n",
    "                \"Obs.TestID=Test.TestID WHERE Test.TestID={0} GROUP BY Obs.ObservationID\").format(1))\n",
    "cur.fetchall()"
   ]
  },
  {
   "cell_type": "code",
   "execution_count": 4,
   "metadata": {},
   "outputs": [
    {
     "data": {
      "text/plain": [
       "[(Decimal('1.0000000'),),\n",
       " (Decimal('1.0000000'),),\n",
       " (Decimal('1.0000000'),),\n",
       " (Decimal('1.0000000'),),\n",
       " (Decimal('0.5000000'),),\n",
       " (Decimal('0.5000000'),),\n",
       " (Decimal('0.5000000'),),\n",
       " (Decimal('0.5000000'),),\n",
       " (Decimal('0E-7'),),\n",
       " (Decimal('0E-7'),),\n",
       " (Decimal('0E-7'),)]"
      ]
     },
     "execution_count": 4,
     "metadata": {},
     "output_type": "execute_result"
    }
   ],
   "source": [
    "cur.execute(\"(SELECT\"\n",
    "                 \" ROUND((Mass-(SELECT MIN(Mass) FROM Observation WHERE\"\n",
    "                 \" TestID={0}))/(SELECT MAX(Mass)-MIN(Mass) FROM Observation\"\n",
    "                 \" WHERE TestID={0}), 7) FROM Observation WHERE TestID={0})\".format(1))\n",
    "cur.fetchall()"
   ]
  },
  {
   "cell_type": "code",
   "execution_count": 7,
   "metadata": {
    "scrolled": true
   },
   "outputs": [
    {
     "data": {
      "text/plain": [
       "[(1,), (1,), (1,), (1,), (1,), (1,), (1,), (1,), (1,), (1,), (1,)]"
      ]
     },
     "execution_count": 7,
     "metadata": {},
     "output_type": "execute_result"
    }
   ],
   "source": [
    "cur.execute(\"SELECT TestID FROM Observation WHERE TestID={}\".format(1))\n",
    "cur.fetchall()"
   ]
  },
  {
   "cell_type": "code",
   "execution_count": 20,
   "metadata": {},
   "outputs": [
    {
     "data": {
      "text/plain": [
       "[(Decimal('1.0000000'), 1),\n",
       " (Decimal('1.0000000'), 1),\n",
       " (Decimal('1.0000000'), 1),\n",
       " (Decimal('1.0000000'), 1),\n",
       " (Decimal('0.5000000'), 1),\n",
       " (Decimal('0.5000000'), 1),\n",
       " (Decimal('0.5000000'), 1),\n",
       " (Decimal('0.5000000'), 1),\n",
       " (Decimal('0E-7'), 1),\n",
       " (Decimal('0E-7'), 1),\n",
       " (Decimal('0E-7'), 1)]"
      ]
     },
     "execution_count": 20,
     "metadata": {},
     "output_type": "execute_result"
    }
   ],
   "source": [
    "cur.execute(\"SELECT\"\n",
    "             \" ROUND((Mass-(SELECT MIN(Mass) FROM Observation WHERE\"\n",
    "             \" TestID=1))/(SELECT MAX(Mass)-MIN(Mass) FROM Observation\"\n",
    "             \" WHERE TestID=1), 7), (TestID) FROM Observation WHERE TestID=1\"\n",
    "             \";\")\n",
    "cur.fetchall()"
   ]
  },
  {
   "cell_type": "code",
   "execution_count": 30,
   "metadata": {
    "collapsed": true,
    "scrolled": true
   },
   "outputs": [],
   "source": [
    "cur.execute((\"INSERT INTO Results (\"\n",
    "             \"NormalizedMass, \" \n",
    "             \"TestID)\"\n",
    "             \"SELECT ROUND((Mass-(SELECT MIN(Mass) FROM Observation WHERE \"\n",
    "             \"TestID={0}))/(SELECT MAX(Mass)-MIN(Mass) FROM Observation \"\n",
    "             \"WHERE TestID={0}), 7), \"\n",
    "             \"'{0}'\"\n",
    "             \"FROM Observation WHERE TestID={0}\"\n",
    "             \";\").format(1))"
   ]
  },
  {
   "cell_type": "code",
   "execution_count": 32,
   "metadata": {},
   "outputs": [
    {
     "data": {
      "text/plain": [
       "[(1, Decimal('1.0000000'), 1),\n",
       " (2, Decimal('1.0000000'), 1),\n",
       " (3, Decimal('1.0000000'), 1),\n",
       " (4, Decimal('1.0000000'), 1),\n",
       " (5, Decimal('0.5000000'), 1),\n",
       " (6, Decimal('0.5000000'), 1),\n",
       " (7, Decimal('0.5000000'), 1),\n",
       " (8, Decimal('0.5000000'), 1),\n",
       " (9, Decimal('0E-7'), 1),\n",
       " (10, Decimal('0E-7'), 1),\n",
       " (11, Decimal('0E-7'), 1),\n",
       " (16, Decimal('1.0000000'), 1),\n",
       " (17, Decimal('1.0000000'), 1),\n",
       " (18, Decimal('1.0000000'), 1),\n",
       " (19, Decimal('1.0000000'), 1),\n",
       " (20, Decimal('0.5000000'), 1),\n",
       " (21, Decimal('0.5000000'), 1),\n",
       " (22, Decimal('0.5000000'), 1),\n",
       " (23, Decimal('0.5000000'), 1),\n",
       " (24, Decimal('0E-7'), 1),\n",
       " (25, Decimal('0E-7'), 1),\n",
       " (26, Decimal('0E-7'), 1),\n",
       " (31, Decimal('1.0000000'), 1),\n",
       " (32, Decimal('1.0000000'), 1),\n",
       " (33, Decimal('1.0000000'), 1),\n",
       " (34, Decimal('1.0000000'), 1),\n",
       " (35, Decimal('0.5000000'), 1),\n",
       " (36, Decimal('0.5000000'), 1),\n",
       " (37, Decimal('0.5000000'), 1),\n",
       " (38, Decimal('0.5000000'), 1),\n",
       " (39, Decimal('0E-7'), 1),\n",
       " (40, Decimal('0E-7'), 1),\n",
       " (41, Decimal('0E-7'), 1)]"
      ]
     },
     "execution_count": 32,
     "metadata": {},
     "output_type": "execute_result"
    }
   ],
   "source": [
    "cur.execute(\"SELECT * FROM Results\")\n",
    "cur.fetchall()"
   ]
  },
  {
   "cell_type": "code",
   "execution_count": 31,
   "metadata": {},
   "outputs": [
    {
     "ename": "InterfaceError",
     "evalue": "No result set to fetch from.",
     "output_type": "error",
     "traceback": [
      "\u001b[1;31m---------------------------------------------------------------------------\u001b[0m",
      "\u001b[1;31mInterfaceError\u001b[0m                            Traceback (most recent call last)",
      "\u001b[1;32m<ipython-input-31-c6824d3b4dd5>\u001b[0m in \u001b[0;36m<module>\u001b[1;34m()\u001b[0m\n\u001b[1;32m----> 1\u001b[1;33m \u001b[0mcur\u001b[0m\u001b[1;33m.\u001b[0m\u001b[0mfetchall\u001b[0m\u001b[1;33m(\u001b[0m\u001b[1;33m)\u001b[0m\u001b[1;33m\u001b[0m\u001b[0m\n\u001b[0m",
      "\u001b[1;32m~\\Anaconda3\\envs\\py35\\lib\\site-packages\\mysql\\connector\\cursor.py\u001b[0m in \u001b[0;36mfetchall\u001b[1;34m(self)\u001b[0m\n\u001b[0;32m    822\u001b[0m     \u001b[1;32mdef\u001b[0m \u001b[0mfetchall\u001b[0m\u001b[1;33m(\u001b[0m\u001b[0mself\u001b[0m\u001b[1;33m)\u001b[0m\u001b[1;33m:\u001b[0m\u001b[1;33m\u001b[0m\u001b[0m\n\u001b[0;32m    823\u001b[0m         \u001b[1;32mif\u001b[0m \u001b[1;32mnot\u001b[0m \u001b[0mself\u001b[0m\u001b[1;33m.\u001b[0m\u001b[0m_have_unread_result\u001b[0m\u001b[1;33m(\u001b[0m\u001b[1;33m)\u001b[0m\u001b[1;33m:\u001b[0m\u001b[1;33m\u001b[0m\u001b[0m\n\u001b[1;32m--> 824\u001b[1;33m             \u001b[1;32mraise\u001b[0m \u001b[0merrors\u001b[0m\u001b[1;33m.\u001b[0m\u001b[0mInterfaceError\u001b[0m\u001b[1;33m(\u001b[0m\u001b[1;34m\"No result set to fetch from.\"\u001b[0m\u001b[1;33m)\u001b[0m\u001b[1;33m\u001b[0m\u001b[0m\n\u001b[0m\u001b[0;32m    825\u001b[0m         \u001b[1;33m(\u001b[0m\u001b[0mrows\u001b[0m\u001b[1;33m,\u001b[0m \u001b[0meof\u001b[0m\u001b[1;33m)\u001b[0m \u001b[1;33m=\u001b[0m \u001b[0mself\u001b[0m\u001b[1;33m.\u001b[0m\u001b[0m_connection\u001b[0m\u001b[1;33m.\u001b[0m\u001b[0mget_rows\u001b[0m\u001b[1;33m(\u001b[0m\u001b[1;33m)\u001b[0m\u001b[1;33m\u001b[0m\u001b[0m\n\u001b[0;32m    826\u001b[0m         \u001b[1;32mif\u001b[0m \u001b[0mself\u001b[0m\u001b[1;33m.\u001b[0m\u001b[0m_nextrow\u001b[0m\u001b[1;33m[\u001b[0m\u001b[1;36m0\u001b[0m\u001b[1;33m]\u001b[0m\u001b[1;33m:\u001b[0m\u001b[1;33m\u001b[0m\u001b[0m\n",
      "\u001b[1;31mInterfaceError\u001b[0m: No result set to fetch from."
     ]
    }
   ],
   "source": [
    "cur.fetchall()"
   ]
  },
  {
   "cell_type": "code",
   "execution_count": null,
   "metadata": {
    "collapsed": true
   },
   "outputs": [],
   "source": []
  }
 ],
 "metadata": {
  "kernelspec": {
   "display_name": "Python 3",
   "language": "python",
   "name": "python3"
  },
  "language_info": {
   "codemirror_mode": {
    "name": "ipython",
    "version": 3
   },
   "file_extension": ".py",
   "mimetype": "text/x-python",
   "name": "python",
   "nbconvert_exporter": "python",
   "pygments_lexer": "ipython3",
   "version": "3.5.4"
  }
 },
 "nbformat": 4,
 "nbformat_minor": 2
}
